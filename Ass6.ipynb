{
 "cells": [
  {
   "cell_type": "code",
   "execution_count": 1,
   "id": "bd4d35e4",
   "metadata": {},
   "outputs": [],
   "source": [
    "import tensorflow as tf\n",
    "import tensorflow_datasets as tfds\n",
    "from tensorflow.keras.utils import to_categorical"
   ]
  },
  {
   "cell_type": "code",
   "execution_count": 2,
   "id": "1f601941",
   "metadata": {},
   "outputs": [
    {
     "name": "stdout",
     "output_type": "stream",
     "text": [
      "Collecting tensorflow_datasetsNote: you may need to restart the kernel to use updated packages.\n",
      "  Downloading tensorflow_datasets-4.7.0-py3-none-any.whl (4.7 MB)\n",
      "     ---------------------------------------- 4.7/4.7 MB 306.9 kB/s eta 0:00:00\n",
      "\n",
      "Requirement already satisfied: tqdm in c:\\users\\dell\\anaconda3\\lib\\site-packages (from tensorflow_datasets) (4.59.0)\n",
      "Requirement already satisfied: six in c:\\users\\dell\\anaconda3\\lib\\site-packages (from tensorflow_datasets) (1.15.0)\n",
      "Requirement already satisfied: absl-py in c:\\users\\dell\\anaconda3\\lib\\site-packages (from tensorflow_datasets) (1.3.0)\n",
      "Requirement already satisfied: termcolor in c:\\users\\dell\\anaconda3\\lib\\site-packages (from tensorflow_datasets) (2.0.1)\n",
      "Collecting promise\n",
      "  Downloading promise-2.3.tar.gz (19 kB)\n",
      "  Preparing metadata (setup.py): started\n",
      "  Preparing metadata (setup.py): finished with status 'done'\n",
      "Requirement already satisfied: toml in c:\\users\\dell\\anaconda3\\lib\\site-packages (from tensorflow_datasets) (0.10.2)\n",
      "Collecting tensorflow-metadata\n",
      "  Downloading tensorflow_metadata-1.11.0-py3-none-any.whl (52 kB)\n",
      "     -------------------------------------- 52.3/52.3 kB 207.1 kB/s eta 0:00:00\n",
      "Collecting importlib-resources\n",
      "  Downloading importlib_resources-5.10.0-py3-none-any.whl (34 kB)\n",
      "Collecting dill\n",
      "  Downloading dill-0.3.6-py3-none-any.whl (110 kB)\n",
      "     ------------------------------------ 110.5/110.5 kB 320.4 kB/s eta 0:00:00\n",
      "Requirement already satisfied: protobuf>=3.12.2 in c:\\users\\dell\\anaconda3\\lib\\site-packages (from tensorflow_datasets) (3.19.6)\n",
      "Collecting etils[epath]\n",
      "  Downloading etils-0.9.0-py3-none-any.whl (140 kB)\n",
      "     ------------------------------------ 140.1/140.1 kB 438.6 kB/s eta 0:00:00\n",
      "Requirement already satisfied: requests>=2.19.0 in c:\\users\\dell\\anaconda3\\lib\\site-packages (from tensorflow_datasets) (2.28.1)\n",
      "Requirement already satisfied: numpy in c:\\users\\dell\\anaconda3\\lib\\site-packages (from tensorflow_datasets) (1.20.1)\n",
      "Requirement already satisfied: charset-normalizer<3,>=2 in c:\\users\\dell\\anaconda3\\lib\\site-packages (from requests>=2.19.0->tensorflow_datasets) (2.1.1)\n",
      "Requirement already satisfied: certifi>=2017.4.17 in c:\\users\\dell\\anaconda3\\lib\\site-packages (from requests>=2.19.0->tensorflow_datasets) (2020.12.5)\n",
      "Requirement already satisfied: idna<4,>=2.5 in c:\\users\\dell\\anaconda3\\lib\\site-packages (from requests>=2.19.0->tensorflow_datasets) (2.10)\n",
      "Requirement already satisfied: urllib3<1.27,>=1.21.1 in c:\\users\\dell\\anaconda3\\lib\\site-packages (from requests>=2.19.0->tensorflow_datasets) (1.26.4)\n",
      "Requirement already satisfied: zipp in c:\\users\\dell\\anaconda3\\lib\\site-packages (from etils[epath]->tensorflow_datasets) (3.4.1)\n",
      "Requirement already satisfied: typing_extensions in c:\\users\\dell\\anaconda3\\lib\\site-packages (from etils[epath]->tensorflow_datasets) (3.7.4.3)\n",
      "Collecting googleapis-common-protos<2,>=1.52.0\n",
      "  Downloading googleapis_common_protos-1.56.4-py2.py3-none-any.whl (211 kB)\n",
      "     ------------------------------------ 211.7/211.7 kB 348.5 kB/s eta 0:00:00\n",
      "Building wheels for collected packages: promise\n",
      "  Building wheel for promise (setup.py): started\n",
      "  Building wheel for promise (setup.py): finished with status 'done'\n",
      "  Created wheel for promise: filename=promise-2.3-py3-none-any.whl size=21494 sha256=729d3624879bc0d1b9a7f4886602da60aa9e91c8829047111170e8ee8224f752\n",
      "  Stored in directory: c:\\users\\dell\\appdata\\local\\pip\\cache\\wheels\\6a\\fe\\dc\\a7b3e03dfd0afb3a19691905bbafac1fbaebb704a02a4daeb2\n",
      "Successfully built promise\n",
      "Installing collected packages: promise, importlib-resources, googleapis-common-protos, etils, dill, tensorflow-metadata, tensorflow_datasets\n",
      "Successfully installed dill-0.3.6 etils-0.9.0 googleapis-common-protos-1.56.4 importlib-resources-5.10.0 promise-2.3 tensorflow-metadata-1.11.0 tensorflow_datasets-4.7.0\n"
     ]
    }
   ],
   "source": [
    "pip install tensorflow_datasets"
   ]
  },
  {
   "cell_type": "code",
   "execution_count": 2,
   "id": "c97d72ed",
   "metadata": {},
   "outputs": [],
   "source": [
    "## Loading images and labels\n",
    "(train_ds, train_labels), (test_ds, test_labels) = tfds.load(\"tf_flowers\",\n",
    "    split=[\"train[:70%]\", \"train[:30%]\"], ## Train test split\n",
    "    batch_size=-1,\n",
    "    as_supervised=True,  # Include labels\n",
    ")"
   ]
  },
  {
   "cell_type": "code",
   "execution_count": 3,
   "id": "f417a0fe",
   "metadata": {},
   "outputs": [
    {
     "data": {
      "text/plain": [
       "TensorShape([442, 1024, 3])"
      ]
     },
     "execution_count": 3,
     "metadata": {},
     "output_type": "execute_result"
    }
   ],
   "source": [
    "## check existing image size\n",
    "train_ds[0].shape"
   ]
  },
  {
   "cell_type": "code",
   "execution_count": 4,
   "id": "c50d8df4",
   "metadata": {},
   "outputs": [],
   "source": [
    "## Resizing images\n",
    "train_ds = tf.image.resize(train_ds, (150, 150))\n",
    "test_ds = tf.image.resize(test_ds, (150, 150))"
   ]
  },
  {
   "cell_type": "code",
   "execution_count": 5,
   "id": "9b32a373",
   "metadata": {},
   "outputs": [
    {
     "data": {
      "text/plain": [
       "<tf.Tensor: shape=(2569,), dtype=int64, numpy=array([2, 3, 3, ..., 0, 2, 0], dtype=int64)>"
      ]
     },
     "execution_count": 5,
     "metadata": {},
     "output_type": "execute_result"
    }
   ],
   "source": [
    "train_labels"
   ]
  },
  {
   "cell_type": "code",
   "execution_count": 6,
   "id": "dcf111c5",
   "metadata": {},
   "outputs": [],
   "source": [
    "## Transforming labels to correct format\n",
    "train_labels = to_categorical(train_labels, num_classes=5)\n",
    "test_labels = to_categorical(test_labels, num_classes=5)"
   ]
  },
  {
   "cell_type": "code",
   "execution_count": 7,
   "id": "062f9bbc",
   "metadata": {},
   "outputs": [
    {
     "data": {
      "text/plain": [
       "array([0., 0., 1., 0., 0.], dtype=float32)"
      ]
     },
     "execution_count": 7,
     "metadata": {},
     "output_type": "execute_result"
    }
   ],
   "source": [
    "train_labels[0]"
   ]
  },
  {
   "cell_type": "code",
   "execution_count": 13,
   "id": "0935410c",
   "metadata": {},
   "outputs": [],
   "source": [
    "from tensorflow.keras.applications.vgg16 import VGG16\n",
    "from tensorflow.keras.applications.vgg16 import preprocess_input"
   ]
  },
  {
   "cell_type": "code",
   "execution_count": 9,
   "id": "c9cfc06f",
   "metadata": {},
   "outputs": [
    {
     "data": {
      "text/plain": [
       "TensorShape([150, 150, 3])"
      ]
     },
     "execution_count": 9,
     "metadata": {},
     "output_type": "execute_result"
    }
   ],
   "source": [
    "train_ds[0].shape"
   ]
  },
  {
   "cell_type": "code",
   "execution_count": 14,
   "id": "0a07b1c1",
   "metadata": {},
   "outputs": [
    {
     "name": "stdout",
     "output_type": "stream",
     "text": [
      "Downloading data from https://storage.googleapis.com/tensorflow/keras-applications/vgg16/vgg16_weights_tf_dim_ordering_tf_kernels_notop.h5\n",
      "58889256/58889256 [==============================] - 189s 3us/step\n"
     ]
    }
   ],
   "source": [
    "## Loading VGG16 model\n",
    "base_model = VGG16(weights=\"imagenet\", include_top=False, input_shape=train_ds[0].shape)"
   ]
  },
  {
   "cell_type": "code",
   "execution_count": 15,
   "id": "c1e90a0d",
   "metadata": {},
   "outputs": [],
   "source": [
    "## will not train base mode\n",
    "# Freeze Parameters in model's lower convolutional layers\n",
    "base_model.trainable = False "
   ]
  },
  {
   "cell_type": "code",
   "execution_count": 16,
   "id": "88675406",
   "metadata": {},
   "outputs": [],
   "source": [
    "## Preprocessing input\n",
    "train_ds = preprocess_input(train_ds) \n",
    "test_ds = preprocess_input(test_ds)"
   ]
  },
  {
   "cell_type": "code",
   "execution_count": 17,
   "id": "031a4e5b",
   "metadata": {},
   "outputs": [
    {
     "name": "stdout",
     "output_type": "stream",
     "text": [
      "Model: \"vgg16\"\n",
      "_________________________________________________________________\n",
      " Layer (type)                Output Shape              Param #   \n",
      "=================================================================\n",
      " input_2 (InputLayer)        [(None, 150, 150, 3)]     0         \n",
      "                                                                 \n",
      " block1_conv1 (Conv2D)       (None, 150, 150, 64)      1792      \n",
      "                                                                 \n",
      " block1_conv2 (Conv2D)       (None, 150, 150, 64)      36928     \n",
      "                                                                 \n",
      " block1_pool (MaxPooling2D)  (None, 75, 75, 64)        0         \n",
      "                                                                 \n",
      " block2_conv1 (Conv2D)       (None, 75, 75, 128)       73856     \n",
      "                                                                 \n",
      " block2_conv2 (Conv2D)       (None, 75, 75, 128)       147584    \n",
      "                                                                 \n",
      " block2_pool (MaxPooling2D)  (None, 37, 37, 128)       0         \n",
      "                                                                 \n",
      " block3_conv1 (Conv2D)       (None, 37, 37, 256)       295168    \n",
      "                                                                 \n",
      " block3_conv2 (Conv2D)       (None, 37, 37, 256)       590080    \n",
      "                                                                 \n",
      " block3_conv3 (Conv2D)       (None, 37, 37, 256)       590080    \n",
      "                                                                 \n",
      " block3_pool (MaxPooling2D)  (None, 18, 18, 256)       0         \n",
      "                                                                 \n",
      " block4_conv1 (Conv2D)       (None, 18, 18, 512)       1180160   \n",
      "                                                                 \n",
      " block4_conv2 (Conv2D)       (None, 18, 18, 512)       2359808   \n",
      "                                                                 \n",
      " block4_conv3 (Conv2D)       (None, 18, 18, 512)       2359808   \n",
      "                                                                 \n",
      " block4_pool (MaxPooling2D)  (None, 9, 9, 512)         0         \n",
      "                                                                 \n",
      " block5_conv1 (Conv2D)       (None, 9, 9, 512)         2359808   \n",
      "                                                                 \n",
      " block5_conv2 (Conv2D)       (None, 9, 9, 512)         2359808   \n",
      "                                                                 \n",
      " block5_conv3 (Conv2D)       (None, 9, 9, 512)         2359808   \n",
      "                                                                 \n",
      " block5_pool (MaxPooling2D)  (None, 4, 4, 512)         0         \n",
      "                                                                 \n",
      "=================================================================\n",
      "Total params: 14,714,688\n",
      "Trainable params: 0\n",
      "Non-trainable params: 14,714,688\n",
      "_________________________________________________________________\n"
     ]
    }
   ],
   "source": [
    "## model details\n",
    "base_model.summary()"
   ]
  },
  {
   "cell_type": "code",
   "execution_count": 18,
   "id": "715ead0a",
   "metadata": {},
   "outputs": [],
   "source": [
    "#add our layers on top of this model\n",
    "from tensorflow.keras import layers, models\n",
    "\n",
    "flatten_layer = layers.Flatten()\n",
    "dense_layer_1 = layers.Dense(50, activation='relu')\n",
    "dense_layer_2 = layers.Dense(20, activation='relu')\n",
    "prediction_layer = layers.Dense(5, activation='softmax')\n",
    "\n",
    "\n",
    "model = models.Sequential([\n",
    "    base_model,\n",
    "    flatten_layer,\n",
    "    dense_layer_1,\n",
    "    dense_layer_2,\n",
    "    prediction_layer\n",
    "])"
   ]
  },
  {
   "cell_type": "code",
   "execution_count": 19,
   "id": "df246e51",
   "metadata": {},
   "outputs": [],
   "source": [
    "from tensorflow.keras.callbacks import EarlyStopping\n",
    "\n",
    "model.compile(\n",
    "    optimizer='adam',\n",
    "    loss='categorical_crossentropy',\n",
    "    metrics=['accuracy'],\n",
    ")"
   ]
  },
  {
   "cell_type": "code",
   "execution_count": 20,
   "id": "97676c6c",
   "metadata": {},
   "outputs": [],
   "source": [
    "es = EarlyStopping(monitor='val_accuracy', mode='max', patience=5,  restore_best_weights=True)"
   ]
  },
  {
   "cell_type": "code",
   "execution_count": 21,
   "id": "20863eb9",
   "metadata": {},
   "outputs": [
    {
     "name": "stdout",
     "output_type": "stream",
     "text": [
      "Epoch 1/50\n",
      "65/65 [==============================] - 336s 5s/step - loss: 1.8410 - accuracy: 0.4696 - val_loss: 1.0555 - val_accuracy: 0.6031\n",
      "Epoch 2/50\n",
      "65/65 [==============================] - 327s 5s/step - loss: 0.8270 - accuracy: 0.6900 - val_loss: 1.0224 - val_accuracy: 0.6595\n",
      "Epoch 3/50\n",
      "65/65 [==============================] - 315s 5s/step - loss: 0.6181 - accuracy: 0.7693 - val_loss: 1.2091 - val_accuracy: 0.6265\n",
      "Epoch 4/50\n",
      "65/65 [==============================] - 353s 5s/step - loss: 0.4299 - accuracy: 0.8234 - val_loss: 1.0689 - val_accuracy: 0.6693\n",
      "Epoch 5/50\n",
      "65/65 [==============================] - 351s 5s/step - loss: 0.3541 - accuracy: 0.8594 - val_loss: 0.9551 - val_accuracy: 0.7121\n",
      "Epoch 6/50\n",
      "65/65 [==============================] - 395s 6s/step - loss: 0.2916 - accuracy: 0.8886 - val_loss: 1.0536 - val_accuracy: 0.6965\n",
      "Epoch 7/50\n",
      "65/65 [==============================] - 329s 5s/step - loss: 0.2493 - accuracy: 0.9046 - val_loss: 1.1186 - val_accuracy: 0.6829\n",
      "Epoch 8/50\n",
      "65/65 [==============================] - 335s 5s/step - loss: 0.2125 - accuracy: 0.9100 - val_loss: 1.0331 - val_accuracy: 0.7315\n",
      "Epoch 9/50\n",
      "65/65 [==============================] - 358s 6s/step - loss: 0.1726 - accuracy: 0.9309 - val_loss: 1.1377 - val_accuracy: 0.7198\n",
      "Epoch 10/50\n",
      "65/65 [==============================] - 333s 5s/step - loss: 0.1464 - accuracy: 0.9397 - val_loss: 1.2575 - val_accuracy: 0.7062\n",
      "Epoch 11/50\n",
      "65/65 [==============================] - 338s 5s/step - loss: 0.1453 - accuracy: 0.9421 - val_loss: 1.2102 - val_accuracy: 0.7023\n",
      "Epoch 12/50\n",
      "65/65 [==============================] - 323s 5s/step - loss: 0.1051 - accuracy: 0.9591 - val_loss: 1.3796 - val_accuracy: 0.7043\n",
      "Epoch 13/50\n",
      "65/65 [==============================] - 328s 5s/step - loss: 0.1400 - accuracy: 0.9431 - val_loss: 1.4233 - val_accuracy: 0.7101\n"
     ]
    }
   ],
   "source": [
    "history=model.fit(train_ds, train_labels, epochs=50, validation_split=0.2, batch_size=32, callbacks=[es])"
   ]
  },
  {
   "cell_type": "code",
   "execution_count": 24,
   "id": "4f52ad59",
   "metadata": {},
   "outputs": [
    {
     "name": "stdout",
     "output_type": "stream",
     "text": [
      "35/35 [==============================] - 154s 4s/step - loss: 0.1679 - accuracy: 0.9310\n",
      "Loss:  0.16785208880901337 Accuracy:  0.9309718608856201\n"
     ]
    }
   ],
   "source": [
    "los,accurac=model.evaluate(test_ds,test_labels)\n",
    "print(\"Loss: \",los,\"Accuracy: \", accurac)"
   ]
  },
  {
   "cell_type": "code",
   "execution_count": 25,
   "id": "b4cb8c1d",
   "metadata": {},
   "outputs": [
    {
     "data": {
      "image/png": "[encoded data removed]",
      "text/plain": [
       "<Figure size 432x288 with 1 Axes>"
      ]
     },
     "metadata": {
      "needs_background": "light"
     },
     "output_type": "display_data"
    }
   ],
   "source": [
    "import matplotlib.pyplot as plt\n",
    "plt.plot(history.history['accuracy'])\n",
    "plt.title('ACCURACY')\n",
    "plt.ylabel('accuracy')\n",
    "plt.xlabel('epoch')\n",
    "plt.legend(['train'],loc='upper left')\n",
    "plt.show()"
   ]
  },
  {
   "cell_type": "code",
   "execution_count": 26,
   "id": "01321cda",
   "metadata": {},
   "outputs": [
    {
     "name": "stdout",
     "output_type": "stream",
     "text": [
      "35/35 [==============================] - 147s 4s/step\n",
      "[2, 3, 3, 3, 3, 0, 0, 0, 0, 1]\n",
      "\n",
      "Test\n",
      "[[0. 0. 1. 0. 0.]\n",
      " [0. 0. 0. 1. 0.]\n",
      " [0. 0. 0. 1. 0.]\n",
      " [0. 0. 0. 0. 1.]\n",
      " [0. 0. 0. 1. 0.]\n",
      " [1. 0. 0. 0. 0.]\n",
      " [1. 0. 0. 0. 0.]\n",
      " [1. 0. 0. 0. 0.]\n",
      " [1. 0. 0. 0. 0.]\n",
      " [0. 1. 0. 0. 0.]]\n"
     ]
    }
   ],
   "source": [
    "import numpy as np\n",
    "import pandas as pd\n",
    "y_pred = model.predict(test_ds)\n",
    "y_classes = [np.argmax(element) for element in y_pred]\n",
    "#to_categorical(y_classes, num_classes=5)\n",
    "#to_categorical(test_labels, num_classes=5)\n",
    "print(y_classes[:10])\n",
    "print(\"\\nTest\")\n",
    "print(test_labels[:10])"
   ]
  },
  {
   "cell_type": "code",
   "execution_count": null,
   "id": "0053e88e",
   "metadata": {},
   "outputs": [],
   "source": []
  }
 ],
 "metadata": {
  "kernelspec": {
   "display_name": "Python 3",
   "language": "python",
   "name": "python3"
  },
  "language_info": {
   "codemirror_mode": {
    "name": "ipython",
    "version": 3
   },
   "file_extension": ".py",
   "mimetype": "text/x-python",
   "name": "python",
   "nbconvert_exporter": "python",
   "pygments_lexer": "ipython3",
   "version": "3.8.8"
  }
 },
 "nbformat": 4,
 "nbformat_minor": 5
}
